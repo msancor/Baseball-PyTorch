{
 "cells": [
  {
   "cell_type": "markdown",
   "metadata": {},
   "source": [
    "<font color='123B64'> <font size = 10>  \n",
    "    \n",
    "# Using PyTorch to predict the outcome of a pitch in baseball: Ball or Strike"
   ]
  },
  {
   "cell_type": "markdown",
   "metadata": {},
   "source": [
    "<font color='black'> <font size = 4>  \n",
    "\n",
    "**Sánchez Cortés Miguel Ángel**  \n",
    "Facultad de Ciencias, UNAM.\n",
    "    \n",
    "miguel.sanchezcortes@ciencias.unam.mx"
   ]
  },
  {
   "cell_type": "markdown",
   "metadata": {},
   "source": [
    "<font color='black'> <font size = 4> <div style=\"text-align: justify\">\n",
    "\n",
    "In this project we will need several packages to make the most of our data and our results. Mainly, [Matplotlib](https://matplotlib.org), [Numpy](https://numpy.org) and [Pandas](https://pandas.pydata.org) are very common packages for data manipulation, analysis and plotting. [PyTorch](https://pytorch.org) is an open source machine learning framework that accelerates the path from research prototyping to production deployment and [Scikit Learn](https://scikit-learn.org/stable/) is a free software machine learning library for the Python programming language."
   ]
  },
  {
   "cell_type": "code",
   "execution_count": 1,
   "metadata": {},
   "outputs": [],
   "source": [
    "import pandas as pd #We import pandas as pd\n",
    "import numpy as np #We import numpy as np\n",
    "import matplotlib #We import matplotlib\n",
    "import matplotlib.pyplot as plt #We import pyplot as plt\n",
    "import networkx as nx #We import networkx as nx\n",
    "import torch #We import pytorch\n",
    "import torch.optim as optim #We import pyplot as plt\n",
    "import torch.nn as nn #We import nn as nn\n",
    "import torch.nn.functional as F #We import functional as F\n",
    "from sklearn.metrics import accuracy_score #We import metrics as accuracy_score\n",
    "\n",
    "#We will plot with LaTeX format\n",
    "\n",
    "matplotlib.rcParams['text.usetex'] = True\n",
    "plt.rc('font', family='serif')\n",
    "plt.rc('text', usetex=True)"
   ]
  },
  {
   "cell_type": "markdown",
   "metadata": {},
   "source": [
    "<font color='8CC6FF'> <font size = 5>  \n",
    "    \n",
    "**1.- The problem to solve**"
   ]
  },
  {
   "cell_type": "markdown",
   "metadata": {},
   "source": [
    "<font color='black'> <font size = 4> <div style=\"text-align: justify\">\n",
    "\n",
    "In the game of baseball, the objective of the pitcher is to throw the ball in a certain area and avoid the bat of the opponent so he can't hit it. To do this, the pitcher has to throw what is denominated a \"strike\".\n",
    "<br> \n",
    "    \n",
    "An example of a strike can be seen in the following animation:"
   ]
  },
  {
   "cell_type": "markdown",
   "metadata": {},
   "source": [
    "<img src = \"./Images/kershaw.gif\">"
   ]
  },
  {
   "cell_type": "markdown",
   "metadata": {},
   "source": [
    "<font color='black'> <font size = 4>  \n",
    "\n",
    "The strike happens when the batter swings or misses at the throw and the ball goes through a zone known as the \"strike-zone\". The strike-zone is defined as the volume that is formed above the \"home plate\" and between the knees of the batter and the midpoint of its torso."
   ]
  },
  {
   "cell_type": "markdown",
   "metadata": {},
   "source": [
    "<img src='./Images/strikezone.jpg' width=\"400\">"
   ]
  },
  {
   "cell_type": "markdown",
   "metadata": {},
   "source": [
    "<font color='black'> <font size = 4>  \n",
    "\n",
    "Every throw that is not a strike is called a \"ball\" and it's the job of the umpire to determine if a throw is a strike or a ball. The main goal of this project is to implement a neural network that does the same job as an umpire (roughly) i.e. identify between a strike or a ball."
   ]
  },
  {
   "cell_type": "markdown",
   "metadata": {},
   "source": [
    "<font color='black'> <font size = 4>  \n",
    "\n",
    "The MLB (Major League Baseball) is one of the top leagues regarding collection of data and data analysis to improve the game and the performance of their players, that's why they publish big datasets for the general public or research teams to analyze. In this case we're going to work with a curated version of a [dataset](https://gist.github.com/nkreeger/43edc6e6daecc2cb02a2dd3293a08f29) obtained by **PITCHf/x**.\n",
    "\n",
    "<br>    \n",
    "**PITCHf/x**, is a system that tracks the speeds and trajectories of pitched baseballs. This system is installed in every MLB stadium. The data from the system is often used by broadcasters to show a visual representation of the pitch and whether or not a pitch entered the strike-zone. PITCHf/x is also used to determine the type of pitch thrown, such as a fastball, curve, or slider.  "
   ]
  },
  {
   "cell_type": "markdown",
   "metadata": {},
   "source": [
    "<font color='black'> <font size = 4>  \n",
    "The dataset we're going to use is a subset of the data obtained by **PITCHf/x** for several years and includes the principal factors that determine if a throw was a ball or a strike (depending on what the umpire said). The dataframe looks like this: "
   ]
  },
  {
   "cell_type": "code",
   "execution_count": 2,
   "metadata": {},
   "outputs": [
    {
     "data": {
      "text/html": [
       "<div>\n",
       "<style scoped>\n",
       "    .dataframe tbody tr th:only-of-type {\n",
       "        vertical-align: middle;\n",
       "    }\n",
       "\n",
       "    .dataframe tbody tr th {\n",
       "        vertical-align: top;\n",
       "    }\n",
       "\n",
       "    .dataframe thead th {\n",
       "        text-align: right;\n",
       "    }\n",
       "</style>\n",
       "<table border=\"1\" class=\"dataframe\">\n",
       "  <thead>\n",
       "    <tr style=\"text-align: right;\">\n",
       "      <th></th>\n",
       "      <th>px</th>\n",
       "      <th>pz</th>\n",
       "      <th>sz_top</th>\n",
       "      <th>sz_bot</th>\n",
       "      <th>left_handed_batter</th>\n",
       "      <th>is_strike</th>\n",
       "    </tr>\n",
       "  </thead>\n",
       "  <tbody>\n",
       "    <tr>\n",
       "      <th>0</th>\n",
       "      <td>0.539113</td>\n",
       "      <td>2.587213</td>\n",
       "      <td>3.621919</td>\n",
       "      <td>1.684979</td>\n",
       "      <td>1</td>\n",
       "      <td>1</td>\n",
       "    </tr>\n",
       "    <tr>\n",
       "      <th>1</th>\n",
       "      <td>0.185254</td>\n",
       "      <td>1.563559</td>\n",
       "      <td>3.723780</td>\n",
       "      <td>1.832007</td>\n",
       "      <td>0</td>\n",
       "      <td>1</td>\n",
       "    </tr>\n",
       "    <tr>\n",
       "      <th>2</th>\n",
       "      <td>0.803388</td>\n",
       "      <td>2.260778</td>\n",
       "      <td>3.622781</td>\n",
       "      <td>1.685562</td>\n",
       "      <td>0</td>\n",
       "      <td>1</td>\n",
       "    </tr>\n",
       "    <tr>\n",
       "      <th>3</th>\n",
       "      <td>0.930117</td>\n",
       "      <td>2.414831</td>\n",
       "      <td>3.652374</td>\n",
       "      <td>1.777228</td>\n",
       "      <td>1</td>\n",
       "      <td>1</td>\n",
       "    </tr>\n",
       "    <tr>\n",
       "      <th>4</th>\n",
       "      <td>0.627324</td>\n",
       "      <td>2.404645</td>\n",
       "      <td>3.578980</td>\n",
       "      <td>1.707845</td>\n",
       "      <td>0</td>\n",
       "      <td>1</td>\n",
       "    </tr>\n",
       "    <tr>\n",
       "      <th>...</th>\n",
       "      <td>...</td>\n",
       "      <td>...</td>\n",
       "      <td>...</td>\n",
       "      <td>...</td>\n",
       "      <td>...</td>\n",
       "      <td>...</td>\n",
       "    </tr>\n",
       "    <tr>\n",
       "      <th>4995</th>\n",
       "      <td>-1.393689</td>\n",
       "      <td>0.283122</td>\n",
       "      <td>3.487617</td>\n",
       "      <td>1.638531</td>\n",
       "      <td>0</td>\n",
       "      <td>0</td>\n",
       "    </tr>\n",
       "    <tr>\n",
       "      <th>4996</th>\n",
       "      <td>0.872779</td>\n",
       "      <td>0.708333</td>\n",
       "      <td>3.381560</td>\n",
       "      <td>1.521567</td>\n",
       "      <td>0</td>\n",
       "      <td>0</td>\n",
       "    </tr>\n",
       "    <tr>\n",
       "      <th>4997</th>\n",
       "      <td>1.384588</td>\n",
       "      <td>2.370364</td>\n",
       "      <td>3.319000</td>\n",
       "      <td>1.513000</td>\n",
       "      <td>0</td>\n",
       "      <td>0</td>\n",
       "    </tr>\n",
       "    <tr>\n",
       "      <th>4998</th>\n",
       "      <td>0.526299</td>\n",
       "      <td>0.876783</td>\n",
       "      <td>3.517436</td>\n",
       "      <td>1.635414</td>\n",
       "      <td>0</td>\n",
       "      <td>0</td>\n",
       "    </tr>\n",
       "    <tr>\n",
       "      <th>4999</th>\n",
       "      <td>0.097945</td>\n",
       "      <td>3.661204</td>\n",
       "      <td>3.299139</td>\n",
       "      <td>1.477017</td>\n",
       "      <td>0</td>\n",
       "      <td>0</td>\n",
       "    </tr>\n",
       "  </tbody>\n",
       "</table>\n",
       "<p>5000 rows × 6 columns</p>\n",
       "</div>"
      ],
      "text/plain": [
       "            px        pz    sz_top    sz_bot  left_handed_batter  is_strike\n",
       "0     0.539113  2.587213  3.621919  1.684979                   1          1\n",
       "1     0.185254  1.563559  3.723780  1.832007                   0          1\n",
       "2     0.803388  2.260778  3.622781  1.685562                   0          1\n",
       "3     0.930117  2.414831  3.652374  1.777228                   1          1\n",
       "4     0.627324  2.404645  3.578980  1.707845                   0          1\n",
       "...        ...       ...       ...       ...                 ...        ...\n",
       "4995 -1.393689  0.283122  3.487617  1.638531                   0          0\n",
       "4996  0.872779  0.708333  3.381560  1.521567                   0          0\n",
       "4997  1.384588  2.370364  3.319000  1.513000                   0          0\n",
       "4998  0.526299  0.876783  3.517436  1.635414                   0          0\n",
       "4999  0.097945  3.661204  3.299139  1.477017                   0          0\n",
       "\n",
       "[5000 rows x 6 columns]"
      ]
     },
     "execution_count": 2,
     "metadata": {},
     "output_type": "execute_result"
    }
   ],
   "source": [
    "df = pd.read_csv('sz-train-data.csv', sep =',')\n",
    "df"
   ]
  },
  {
   "cell_type": "markdown",
   "metadata": {},
   "source": [
    "<font color='black'> <font size = 4> \n",
    "    \n",
    "As we can see, we have **6 main characteristics**, where **5 are input characteristics** and have the following meaning:\n",
    "    \n",
    "- **\"px\"** and **\"pz\"** are the coordinates in x and z where the ball crosses the plane formed above the home plate. This coordinates are measured in ft and the origin is given by the midpoint of the home plate.\n",
    "    \n",
    "- **\"sz_top\"** is the coordinate of the top limit of the strikezone and **\"sz_bot\"** is the coordinate of the bottom limit of the strikezone. This coordinates are measured in ft and the origin is given by the home plate.\n",
    "    \n",
    "- **\"left_handed_batter\"** gives us the answer to the question: \"Is the batter left handed?\" It's value is 1 if it is True and 0 if it is False.\n",
    "\n",
    "We also have **1 output** that depends on the characteristics mentioned above and it is:\n",
    "    \n",
    "- **\"is_strike\"** gives us the answer to the question: \"Was the throw a strike?\" It's value is 1 if it is True and 0 if it is False."
   ]
  },
  {
   "cell_type": "markdown",
   "metadata": {},
   "source": [
    "<font color='black'> <font size = 4> \n",
    "We have 5000 samples in total, in fact, 2500 are samples of a strike and 2500 are samples of a ball."
   ]
  },
  {
   "cell_type": "code",
   "execution_count": 3,
   "metadata": {},
   "outputs": [
    {
     "name": "stdout",
     "output_type": "stream",
     "text": [
      "The length of the dataframe is:  5000\n"
     ]
    }
   ],
   "source": [
    "print(\"The length of the dataframe is: \", len(df))"
   ]
  },
  {
   "cell_type": "code",
   "execution_count": 4,
   "metadata": {},
   "outputs": [
    {
     "data": {
      "text/html": [
       "<div>\n",
       "<style scoped>\n",
       "    .dataframe tbody tr th:only-of-type {\n",
       "        vertical-align: middle;\n",
       "    }\n",
       "\n",
       "    .dataframe tbody tr th {\n",
       "        vertical-align: top;\n",
       "    }\n",
       "\n",
       "    .dataframe thead th {\n",
       "        text-align: right;\n",
       "    }\n",
       "</style>\n",
       "<table border=\"1\" class=\"dataframe\">\n",
       "  <thead>\n",
       "    <tr style=\"text-align: right;\">\n",
       "      <th></th>\n",
       "      <th>px</th>\n",
       "      <th>pz</th>\n",
       "      <th>sz_top</th>\n",
       "      <th>sz_bot</th>\n",
       "      <th>left_handed_batter</th>\n",
       "      <th>is_strike</th>\n",
       "    </tr>\n",
       "  </thead>\n",
       "  <tbody>\n",
       "    <tr>\n",
       "      <th>0</th>\n",
       "      <td>0.539113</td>\n",
       "      <td>2.587213</td>\n",
       "      <td>3.621919</td>\n",
       "      <td>1.684979</td>\n",
       "      <td>1</td>\n",
       "      <td>1</td>\n",
       "    </tr>\n",
       "    <tr>\n",
       "      <th>1</th>\n",
       "      <td>0.185254</td>\n",
       "      <td>1.563559</td>\n",
       "      <td>3.723780</td>\n",
       "      <td>1.832007</td>\n",
       "      <td>0</td>\n",
       "      <td>1</td>\n",
       "    </tr>\n",
       "    <tr>\n",
       "      <th>2</th>\n",
       "      <td>0.803388</td>\n",
       "      <td>2.260778</td>\n",
       "      <td>3.622781</td>\n",
       "      <td>1.685562</td>\n",
       "      <td>0</td>\n",
       "      <td>1</td>\n",
       "    </tr>\n",
       "    <tr>\n",
       "      <th>3</th>\n",
       "      <td>0.930117</td>\n",
       "      <td>2.414831</td>\n",
       "      <td>3.652374</td>\n",
       "      <td>1.777228</td>\n",
       "      <td>1</td>\n",
       "      <td>1</td>\n",
       "    </tr>\n",
       "    <tr>\n",
       "      <th>4</th>\n",
       "      <td>0.627324</td>\n",
       "      <td>2.404645</td>\n",
       "      <td>3.578980</td>\n",
       "      <td>1.707845</td>\n",
       "      <td>0</td>\n",
       "      <td>1</td>\n",
       "    </tr>\n",
       "    <tr>\n",
       "      <th>...</th>\n",
       "      <td>...</td>\n",
       "      <td>...</td>\n",
       "      <td>...</td>\n",
       "      <td>...</td>\n",
       "      <td>...</td>\n",
       "      <td>...</td>\n",
       "    </tr>\n",
       "    <tr>\n",
       "      <th>2495</th>\n",
       "      <td>0.662516</td>\n",
       "      <td>2.002532</td>\n",
       "      <td>3.397681</td>\n",
       "      <td>1.551287</td>\n",
       "      <td>0</td>\n",
       "      <td>1</td>\n",
       "    </tr>\n",
       "    <tr>\n",
       "      <th>2496</th>\n",
       "      <td>0.719112</td>\n",
       "      <td>2.071470</td>\n",
       "      <td>3.237017</td>\n",
       "      <td>1.551363</td>\n",
       "      <td>0</td>\n",
       "      <td>1</td>\n",
       "    </tr>\n",
       "    <tr>\n",
       "      <th>2497</th>\n",
       "      <td>0.643908</td>\n",
       "      <td>3.032396</td>\n",
       "      <td>3.570195</td>\n",
       "      <td>1.657748</td>\n",
       "      <td>0</td>\n",
       "      <td>1</td>\n",
       "    </tr>\n",
       "    <tr>\n",
       "      <th>2498</th>\n",
       "      <td>-0.235052</td>\n",
       "      <td>1.594047</td>\n",
       "      <td>3.713668</td>\n",
       "      <td>1.757791</td>\n",
       "      <td>1</td>\n",
       "      <td>1</td>\n",
       "    </tr>\n",
       "    <tr>\n",
       "      <th>2499</th>\n",
       "      <td>-0.623134</td>\n",
       "      <td>1.845522</td>\n",
       "      <td>3.501186</td>\n",
       "      <td>1.605948</td>\n",
       "      <td>0</td>\n",
       "      <td>1</td>\n",
       "    </tr>\n",
       "  </tbody>\n",
       "</table>\n",
       "<p>2500 rows × 6 columns</p>\n",
       "</div>"
      ],
      "text/plain": [
       "            px        pz    sz_top    sz_bot  left_handed_batter  is_strike\n",
       "0     0.539113  2.587213  3.621919  1.684979                   1          1\n",
       "1     0.185254  1.563559  3.723780  1.832007                   0          1\n",
       "2     0.803388  2.260778  3.622781  1.685562                   0          1\n",
       "3     0.930117  2.414831  3.652374  1.777228                   1          1\n",
       "4     0.627324  2.404645  3.578980  1.707845                   0          1\n",
       "...        ...       ...       ...       ...                 ...        ...\n",
       "2495  0.662516  2.002532  3.397681  1.551287                   0          1\n",
       "2496  0.719112  2.071470  3.237017  1.551363                   0          1\n",
       "2497  0.643908  3.032396  3.570195  1.657748                   0          1\n",
       "2498 -0.235052  1.594047  3.713668  1.757791                   1          1\n",
       "2499 -0.623134  1.845522  3.501186  1.605948                   0          1\n",
       "\n",
       "[2500 rows x 6 columns]"
      ]
     },
     "execution_count": 4,
     "metadata": {},
     "output_type": "execute_result"
    }
   ],
   "source": [
    "#This is the first half of the data\n",
    "df[:2500]"
   ]
  },
  {
   "cell_type": "code",
   "execution_count": 5,
   "metadata": {},
   "outputs": [
    {
     "data": {
      "text/html": [
       "<div>\n",
       "<style scoped>\n",
       "    .dataframe tbody tr th:only-of-type {\n",
       "        vertical-align: middle;\n",
       "    }\n",
       "\n",
       "    .dataframe tbody tr th {\n",
       "        vertical-align: top;\n",
       "    }\n",
       "\n",
       "    .dataframe thead th {\n",
       "        text-align: right;\n",
       "    }\n",
       "</style>\n",
       "<table border=\"1\" class=\"dataframe\">\n",
       "  <thead>\n",
       "    <tr style=\"text-align: right;\">\n",
       "      <th></th>\n",
       "      <th>px</th>\n",
       "      <th>pz</th>\n",
       "      <th>sz_top</th>\n",
       "      <th>sz_bot</th>\n",
       "      <th>left_handed_batter</th>\n",
       "      <th>is_strike</th>\n",
       "    </tr>\n",
       "  </thead>\n",
       "  <tbody>\n",
       "    <tr>\n",
       "      <th>2500</th>\n",
       "      <td>-2.445494</td>\n",
       "      <td>2.447305</td>\n",
       "      <td>3.368796</td>\n",
       "      <td>1.685271</td>\n",
       "      <td>0</td>\n",
       "      <td>0</td>\n",
       "    </tr>\n",
       "    <tr>\n",
       "      <th>2501</th>\n",
       "      <td>-1.799024</td>\n",
       "      <td>2.148282</td>\n",
       "      <td>3.378342</td>\n",
       "      <td>1.653433</td>\n",
       "      <td>0</td>\n",
       "      <td>0</td>\n",
       "    </tr>\n",
       "    <tr>\n",
       "      <th>2502</th>\n",
       "      <td>-0.940878</td>\n",
       "      <td>1.595694</td>\n",
       "      <td>3.399827</td>\n",
       "      <td>1.705965</td>\n",
       "      <td>0</td>\n",
       "      <td>0</td>\n",
       "    </tr>\n",
       "    <tr>\n",
       "      <th>2503</th>\n",
       "      <td>-1.511470</td>\n",
       "      <td>2.654238</td>\n",
       "      <td>3.296390</td>\n",
       "      <td>1.602493</td>\n",
       "      <td>0</td>\n",
       "      <td>0</td>\n",
       "    </tr>\n",
       "    <tr>\n",
       "      <th>2504</th>\n",
       "      <td>0.787675</td>\n",
       "      <td>2.826297</td>\n",
       "      <td>3.434307</td>\n",
       "      <td>1.692996</td>\n",
       "      <td>1</td>\n",
       "      <td>0</td>\n",
       "    </tr>\n",
       "    <tr>\n",
       "      <th>...</th>\n",
       "      <td>...</td>\n",
       "      <td>...</td>\n",
       "      <td>...</td>\n",
       "      <td>...</td>\n",
       "      <td>...</td>\n",
       "      <td>...</td>\n",
       "    </tr>\n",
       "    <tr>\n",
       "      <th>4995</th>\n",
       "      <td>-1.393689</td>\n",
       "      <td>0.283122</td>\n",
       "      <td>3.487617</td>\n",
       "      <td>1.638531</td>\n",
       "      <td>0</td>\n",
       "      <td>0</td>\n",
       "    </tr>\n",
       "    <tr>\n",
       "      <th>4996</th>\n",
       "      <td>0.872779</td>\n",
       "      <td>0.708333</td>\n",
       "      <td>3.381560</td>\n",
       "      <td>1.521567</td>\n",
       "      <td>0</td>\n",
       "      <td>0</td>\n",
       "    </tr>\n",
       "    <tr>\n",
       "      <th>4997</th>\n",
       "      <td>1.384588</td>\n",
       "      <td>2.370364</td>\n",
       "      <td>3.319000</td>\n",
       "      <td>1.513000</td>\n",
       "      <td>0</td>\n",
       "      <td>0</td>\n",
       "    </tr>\n",
       "    <tr>\n",
       "      <th>4998</th>\n",
       "      <td>0.526299</td>\n",
       "      <td>0.876783</td>\n",
       "      <td>3.517436</td>\n",
       "      <td>1.635414</td>\n",
       "      <td>0</td>\n",
       "      <td>0</td>\n",
       "    </tr>\n",
       "    <tr>\n",
       "      <th>4999</th>\n",
       "      <td>0.097945</td>\n",
       "      <td>3.661204</td>\n",
       "      <td>3.299139</td>\n",
       "      <td>1.477017</td>\n",
       "      <td>0</td>\n",
       "      <td>0</td>\n",
       "    </tr>\n",
       "  </tbody>\n",
       "</table>\n",
       "<p>2500 rows × 6 columns</p>\n",
       "</div>"
      ],
      "text/plain": [
       "            px        pz    sz_top    sz_bot  left_handed_batter  is_strike\n",
       "2500 -2.445494  2.447305  3.368796  1.685271                   0          0\n",
       "2501 -1.799024  2.148282  3.378342  1.653433                   0          0\n",
       "2502 -0.940878  1.595694  3.399827  1.705965                   0          0\n",
       "2503 -1.511470  2.654238  3.296390  1.602493                   0          0\n",
       "2504  0.787675  2.826297  3.434307  1.692996                   1          0\n",
       "...        ...       ...       ...       ...                 ...        ...\n",
       "4995 -1.393689  0.283122  3.487617  1.638531                   0          0\n",
       "4996  0.872779  0.708333  3.381560  1.521567                   0          0\n",
       "4997  1.384588  2.370364  3.319000  1.513000                   0          0\n",
       "4998  0.526299  0.876783  3.517436  1.635414                   0          0\n",
       "4999  0.097945  3.661204  3.299139  1.477017                   0          0\n",
       "\n",
       "[2500 rows x 6 columns]"
      ]
     },
     "execution_count": 5,
     "metadata": {},
     "output_type": "execute_result"
    }
   ],
   "source": [
    "#This is the second half of the data\n",
    "df[2500:]"
   ]
  },
  {
   "cell_type": "markdown",
   "metadata": {},
   "source": [
    "<font color='8CC6FF'> <font size = 5>  \n",
    "    \n",
    "**2.- Separation and data analysis**"
   ]
  },
  {
   "cell_type": "markdown",
   "metadata": {},
   "source": [
    "<font color='black'> <font size = 4> \n",
    "\n",
    "Let's see an individual sample of the dataset"
   ]
  },
  {
   "cell_type": "code",
   "execution_count": 7,
   "metadata": {},
   "outputs": [
    {
     "data": {
      "text/html": [
       "<div>\n",
       "<style scoped>\n",
       "    .dataframe tbody tr th:only-of-type {\n",
       "        vertical-align: middle;\n",
       "    }\n",
       "\n",
       "    .dataframe tbody tr th {\n",
       "        vertical-align: top;\n",
       "    }\n",
       "\n",
       "    .dataframe thead th {\n",
       "        text-align: right;\n",
       "    }\n",
       "</style>\n",
       "<table border=\"1\" class=\"dataframe\">\n",
       "  <thead>\n",
       "    <tr style=\"text-align: right;\">\n",
       "      <th></th>\n",
       "      <th>px</th>\n",
       "      <th>pz</th>\n",
       "      <th>sz_top</th>\n",
       "      <th>sz_bot</th>\n",
       "      <th>left_handed_batter</th>\n",
       "      <th>is_strike</th>\n",
       "    </tr>\n",
       "  </thead>\n",
       "  <tbody>\n",
       "    <tr>\n",
       "      <th>0</th>\n",
       "      <td>0.539113</td>\n",
       "      <td>2.587213</td>\n",
       "      <td>3.621919</td>\n",
       "      <td>1.684979</td>\n",
       "      <td>1</td>\n",
       "      <td>1</td>\n",
       "    </tr>\n",
       "  </tbody>\n",
       "</table>\n",
       "</div>"
      ],
      "text/plain": [
       "         px        pz    sz_top    sz_bot  left_handed_batter  is_strike\n",
       "0  0.539113  2.587213  3.621919  1.684979                   1          1"
      ]
     },
     "execution_count": 7,
     "metadata": {},
     "output_type": "execute_result"
    }
   ],
   "source": [
    "df[:1]"
   ]
  },
  {
   "cell_type": "markdown",
   "metadata": {},
   "source": [
    "<font color='black'> <font size = 4> \n",
    "\n",
    "Notice that using the data given above we can reconstruct the exact coordinate where the ball crossed the strike-zone. In this case, if we graph the strike-zone (noticing that the home plate's width is 17 ft) and plot the point where the ball passed, we can see graphically if the throw was a ball or a strike."
   ]
  },
  {
   "cell_type": "code",
   "execution_count": 8,
   "metadata": {},
   "outputs": [],
   "source": [
    "#First we define some arrays with the coordinates of the pitch and the homeplate\n",
    "pitch= np.array([df.iloc[0][0],df.iloc[0][1]])\n",
    "sz= np.array([df.iloc[0][2],df.iloc[0][3]])\n",
    "home=1.41667"
   ]
  },
  {
   "cell_type": "code",
   "execution_count": 9,
   "metadata": {},
   "outputs": [
    {
     "data": {
      "image/png": "[encoded data removed]",
      "text/plain": [
       "<Figure size 432x288 with 1 Axes>"
      ]
     },
     "metadata": {
      "needs_background": "light"
     },
     "output_type": "display_data"
    }
   ],
   "source": [
    "#We Plot\n",
    "fig=plt.figure()\n",
    "ax=fig.add_axes([0,0,1,1])\n",
    "ax.scatter(pitch[0], pitch[1], color='brown')\n",
    "plt.plot([-home/2,home/2,home/2,-home/2,-home/2], [sz[1],sz[1],sz[0],sz[0],sz[1]], '-')\n",
    "ax.set_xlabel('X')\n",
    "ax.set_ylabel('Z')\n",
    "ax.set_title('Throw 0', {'fontsize': 15})\n",
    "plt.savefig(\"./Images/Throw1.png\",dpi=300,bbox_inches=\"tight\")"
   ]
  },
  {
   "cell_type": "markdown",
   "metadata": {},
   "source": [
    "<font color='black'> <font size = 4> \n",
    "\n",
    "As we can see, this is a strike.\n",
    "    \n",
    "<br>\n",
    "    \n",
    "Now we can do the same thing for a throw that is labeled as a strike:"
   ]
  },
  {
   "cell_type": "code",
   "execution_count": 10,
   "metadata": {},
   "outputs": [
    {
     "data": {
      "text/html": [
       "<div>\n",
       "<style scoped>\n",
       "    .dataframe tbody tr th:only-of-type {\n",
       "        vertical-align: middle;\n",
       "    }\n",
       "\n",
       "    .dataframe tbody tr th {\n",
       "        vertical-align: top;\n",
       "    }\n",
       "\n",
       "    .dataframe thead th {\n",
       "        text-align: right;\n",
       "    }\n",
       "</style>\n",
       "<table border=\"1\" class=\"dataframe\">\n",
       "  <thead>\n",
       "    <tr style=\"text-align: right;\">\n",
       "      <th></th>\n",
       "      <th>px</th>\n",
       "      <th>pz</th>\n",
       "      <th>sz_top</th>\n",
       "      <th>sz_bot</th>\n",
       "      <th>left_handed_batter</th>\n",
       "      <th>is_strike</th>\n",
       "    </tr>\n",
       "  </thead>\n",
       "  <tbody>\n",
       "    <tr>\n",
       "      <th>4999</th>\n",
       "      <td>0.097945</td>\n",
       "      <td>3.661204</td>\n",
       "      <td>3.299139</td>\n",
       "      <td>1.477017</td>\n",
       "      <td>0</td>\n",
       "      <td>0</td>\n",
       "    </tr>\n",
       "  </tbody>\n",
       "</table>\n",
       "</div>"
      ],
      "text/plain": [
       "            px        pz    sz_top    sz_bot  left_handed_batter  is_strike\n",
       "4999  0.097945  3.661204  3.299139  1.477017                   0          0"
      ]
     },
     "execution_count": 10,
     "metadata": {},
     "output_type": "execute_result"
    }
   ],
   "source": [
    "df[-1:]"
   ]
  },
  {
   "cell_type": "code",
   "execution_count": 11,
   "metadata": {},
   "outputs": [],
   "source": [
    "#First we define some arrays with the coordinates of the pitch and the homeplate\n",
    "pitch2= np.array([df.iloc[-1][0],df.iloc[-1][1]])\n",
    "sz2= np.array([df.iloc[-1][2],df.iloc[-1][3]])\n",
    "home=1.41667"
   ]
  },
  {
   "cell_type": "code",
   "execution_count": 12,
   "metadata": {},
   "outputs": [
    {
     "data": {
      "image/png": "[encoded data removed]",
      "text/plain": [
       "<Figure size 432x288 with 1 Axes>"
      ]
     },
     "metadata": {
      "needs_background": "light"
     },
     "output_type": "display_data"
    }
   ],
   "source": [
    "#We plot\n",
    "fig=plt.figure()\n",
    "ax=fig.add_axes([0,0,1,1])\n",
    "ax.scatter(pitch2[0], pitch2[1], color='brown')\n",
    "plt.plot([-home/2,home/2,home/2,-home/2,-home/2], [sz2[1],sz2[1],sz2[0],sz2[0],sz2[1]], '-')\n",
    "ax.set_xlabel('X')\n",
    "ax.set_ylabel('Z')\n",
    "ax.set_title('Throw 4999',{'fontsize': 15})\n",
    "plt.savefig(\"./Images/Throw4999.png\",dpi=300,bbox_inches=\"tight\")"
   ]
  },
  {
   "cell_type": "markdown",
   "metadata": {},
   "source": [
    "<font color='black'> <font size = 4> \n",
    "\n",
    "As we can confirm, this is a ball."
   ]
  },
  {
   "cell_type": "markdown",
   "metadata": {},
   "source": [
    "<font color='black'> <font size = 4> \n",
    "\n",
    "It is useful to plot the histogram of the whole dataset. This gives us a notion of the limits of our data values."
   ]
  },
  {
   "cell_type": "code",
   "execution_count": 13,
   "metadata": {},
   "outputs": [
    {
     "data": {
      "image/png": "[encoded data removed]",
      "text/plain": [
       "<Figure size 1440x576 with 4 Axes>"
      ]
     },
     "metadata": {
      "needs_background": "light"
     },
     "output_type": "display_data"
    }
   ],
   "source": [
    "#We plot some histograms\n",
    "fig = plt.figure(figsize=(20,8)) \n",
    "\n",
    "ax1 = plt.subplot(2,4,1)\n",
    "ax2 = plt.subplot(2,4,2)\n",
    "ax3 = plt.subplot(2,4,3)\n",
    "ax4 = plt.subplot(2,4,4)\n",
    "\n",
    "ax1.hist(df.px, bins=30, color='yellowgreen',edgecolor='black', alpha=0.5)\n",
    "ax1.set_xlabel('X throw coordinate', size=15)\n",
    "ax1.set_ylabel('Frequency', size=15)\n",
    "\n",
    "ax2.hist(df.pz, bins=30, color='indianred',edgecolor='black', alpha=0.5)\n",
    "ax2.set_xlabel('Z throw coordinate', size=15);\n",
    "\n",
    "ax3.hist(df.sz_top, bins=30, color='lightblue',edgecolor='black', alpha=0.5)\n",
    "ax3.set_xlabel('Superior limit of the S-Z', size=15);\n",
    "\n",
    "ax4.hist(df.sz_bot, bins=30, color='slategray',edgecolor='black', alpha=0.5)\n",
    "ax4.set_xlabel('Inferior limit of the S-Z', size=15);\n",
    "\n",
    "plt.savefig(\"./Images/hist1.png\",dpi=300,bbox_inches=\"tight\")"
   ]
  },
  {
   "cell_type": "code",
   "execution_count": 14,
   "metadata": {},
   "outputs": [
    {
     "data": {
      "image/png": "[encoded data removed]",
      "text/plain": [
       "<Figure size 1440x576 with 2 Axes>"
      ]
     },
     "metadata": {
      "needs_background": "light"
     },
     "output_type": "display_data"
    }
   ],
   "source": [
    "#We plot the other histograms\n",
    "fig = plt.figure(figsize=(20,8)) \n",
    "\n",
    "ax5 = plt.subplot(2,4,1)\n",
    "ax6 = plt.subplot(2,4,2)\n",
    "\n",
    "ax5.hist(df.left_handed_batter, bins=30, color='brown',edgecolor='black', alpha=0.5)\n",
    "ax5.set_xlabel('Is the batter left handed?', size=15)\n",
    "ax5.set_ylabel('Frequency', size=15)\n",
    "\n",
    "ax6.hist(df.is_strike, bins=30, color='pink',edgecolor='black', alpha=0.5)\n",
    "ax6.set_xlabel('Is the throw a strike?', size=15);\n",
    "\n",
    "plt.savefig(\"./Images/hist2.png\",dpi=300,bbox_inches=\"tight\")"
   ]
  },
  {
   "cell_type": "markdown",
   "metadata": {},
   "source": [
    "<font color='black'> <font size = 4> \n",
    "\n",
    "Now, we can sample the data to avoid bias when training and divide it in a training set (90% of the total dataset) and a test set (10% of the total dataset)."
   ]
  },
  {
   "cell_type": "code",
   "execution_count": 15,
   "metadata": {},
   "outputs": [
    {
     "data": {
      "text/html": [
       "<div>\n",
       "<style scoped>\n",
       "    .dataframe tbody tr th:only-of-type {\n",
       "        vertical-align: middle;\n",
       "    }\n",
       "\n",
       "    .dataframe tbody tr th {\n",
       "        vertical-align: top;\n",
       "    }\n",
       "\n",
       "    .dataframe thead th {\n",
       "        text-align: right;\n",
       "    }\n",
       "</style>\n",
       "<table border=\"1\" class=\"dataframe\">\n",
       "  <thead>\n",
       "    <tr style=\"text-align: right;\">\n",
       "      <th></th>\n",
       "      <th>px</th>\n",
       "      <th>pz</th>\n",
       "      <th>sz_top</th>\n",
       "      <th>sz_bot</th>\n",
       "      <th>left_handed_batter</th>\n",
       "      <th>is_strike</th>\n",
       "    </tr>\n",
       "  </thead>\n",
       "  <tbody>\n",
       "    <tr>\n",
       "      <th>2764</th>\n",
       "      <td>-1.311703</td>\n",
       "      <td>0.706626</td>\n",
       "      <td>3.275232</td>\n",
       "      <td>1.617182</td>\n",
       "      <td>0</td>\n",
       "      <td>0</td>\n",
       "    </tr>\n",
       "    <tr>\n",
       "      <th>4767</th>\n",
       "      <td>-1.549807</td>\n",
       "      <td>-0.190490</td>\n",
       "      <td>3.322346</td>\n",
       "      <td>1.523619</td>\n",
       "      <td>0</td>\n",
       "      <td>0</td>\n",
       "    </tr>\n",
       "    <tr>\n",
       "      <th>3814</th>\n",
       "      <td>-0.435908</td>\n",
       "      <td>1.151633</td>\n",
       "      <td>3.411000</td>\n",
       "      <td>1.565000</td>\n",
       "      <td>0</td>\n",
       "      <td>0</td>\n",
       "    </tr>\n",
       "    <tr>\n",
       "      <th>3499</th>\n",
       "      <td>0.081753</td>\n",
       "      <td>1.091413</td>\n",
       "      <td>3.384008</td>\n",
       "      <td>1.618902</td>\n",
       "      <td>1</td>\n",
       "      <td>0</td>\n",
       "    </tr>\n",
       "    <tr>\n",
       "      <th>2735</th>\n",
       "      <td>-0.544799</td>\n",
       "      <td>1.340813</td>\n",
       "      <td>3.754808</td>\n",
       "      <td>1.800967</td>\n",
       "      <td>0</td>\n",
       "      <td>0</td>\n",
       "    </tr>\n",
       "  </tbody>\n",
       "</table>\n",
       "</div>"
      ],
      "text/plain": [
       "            px        pz    sz_top    sz_bot  left_handed_batter  is_strike\n",
       "2764 -1.311703  0.706626  3.275232  1.617182                   0          0\n",
       "4767 -1.549807 -0.190490  3.322346  1.523619                   0          0\n",
       "3814 -0.435908  1.151633  3.411000  1.565000                   0          0\n",
       "3499  0.081753  1.091413  3.384008  1.618902                   1          0\n",
       "2735 -0.544799  1.340813  3.754808  1.800967                   0          0"
      ]
     },
     "execution_count": 15,
     "metadata": {},
     "output_type": "execute_result"
    }
   ],
   "source": [
    "#We sample the data with a random seed to reproduce the data\n",
    "np.random.seed(1)\n",
    "df = df.sample(frac=1)\n",
    "df.head()"
   ]
  },
  {
   "cell_type": "code",
   "execution_count": 16,
   "metadata": {},
   "outputs": [],
   "source": [
    "#We divide the data\n",
    "test_ratio = 0.1\n",
    "\n",
    "train_ratio = int((1.0-test_ratio)*len(df.values[:,:]))\n",
    "\n",
    "df_train = df.iloc[0:train_ratio,:]\n",
    "df_test  = df.iloc[train_ratio:,:]"
   ]
  },
  {
   "cell_type": "code",
   "execution_count": 17,
   "metadata": {},
   "outputs": [
    {
     "name": "stdout",
     "output_type": "stream",
     "text": [
      "The shape of the train set is:  (4500, 6)\n",
      "The shape of the test set es:  (500, 6)\n"
     ]
    }
   ],
   "source": [
    "print(\"The shape of the train set is: \", df_train.shape)\n",
    "print(\"The shape of the test set es: \", df_test.shape)"
   ]
  },
  {
   "cell_type": "markdown",
   "metadata": {},
   "source": [
    "<font color='black'> <font size = 4> \n",
    "\n",
    "**It's not necessary to normalize the data, this is a special case because we obtained an already curated set from PITCHf/x**.    "
   ]
  },
  {
   "cell_type": "code",
   "execution_count": 18,
   "metadata": {},
   "outputs": [
    {
     "name": "stdout",
     "output_type": "stream",
     "text": [
      "(4500, 5)\n",
      "(4500, 1)\n",
      "(500, 5)\n",
      "(500, 1)\n"
     ]
    }
   ],
   "source": [
    "#We can divide the dataset in input and output and look at it's shape:\n",
    "x_train = df_train.values[:,:-1]\n",
    "y_train = df_train.values[:,-1:]\n",
    "x_test = df_test.values[:,:-1]\n",
    "y_test = df_test.values[:,-1:]\n",
    "\n",
    "print(x_train.shape)\n",
    "print(y_train.shape)\n",
    "print(x_test.shape)\n",
    "print(y_test.shape)"
   ]
  },
  {
   "cell_type": "markdown",
   "metadata": {},
   "source": [
    "<font color='black'> <font size = 4> \n",
    "\n",
    "We can define the validation set, which can be obtained dividing again the training set (in a 90%-10% fashion)."
   ]
  },
  {
   "cell_type": "code",
   "execution_count": 19,
   "metadata": {},
   "outputs": [],
   "source": [
    "#We obtain a validation set\n",
    "val_ratio = 0.1\n",
    "train_ratio = int((1.0-val_ratio)*x_train.shape[0])\n",
    "X_val = x_train[train_ratio:,:]\n",
    "Y_val = y_train[train_ratio:,:]\n",
    "\n",
    "X_train = x_train[:train_ratio,:]\n",
    "Y_train = y_train[:train_ratio,:]"
   ]
  },
  {
   "cell_type": "markdown",
   "metadata": {},
   "source": [
    "<font color='black'> <font size = 4> \n",
    "\n",
    "As we're going to use the PyTorch framework it is useful to convert the datasets to tensors so we can work with them in the future:"
   ]
  },
  {
   "cell_type": "code",
   "execution_count": 20,
   "metadata": {},
   "outputs": [],
   "source": [
    "train_x= torch.Tensor(np.array(X_train)).type(torch.FloatTensor)\n",
    "train_y = torch.Tensor(np.squeeze(Y_train)).type(torch.LongTensor)\n",
    "val_x = torch.Tensor(np.array(X_val)).type(torch.FloatTensor)\n",
    "val_y = torch.Tensor(np.squeeze(Y_val)).type(torch.LongTensor)\n",
    "test_x = torch.Tensor(np.array(x_test)).type(torch.FloatTensor)\n",
    "test_y = torch.tensor(np.squeeze(y_test)).type(torch.LongTensor)"
   ]
  },
  {
   "cell_type": "code",
   "execution_count": 21,
   "metadata": {},
   "outputs": [
    {
     "name": "stdout",
     "output_type": "stream",
     "text": [
      "The shape of the x values of the training set is:  torch.Size([4050, 5])\n",
      "The shape of the y values of the training set is:  torch.Size([4050])\n",
      "The shape of the x values of the validation set is:  torch.Size([450, 5])\n",
      "The shape of the y values of the validation set is:  torch.Size([450])\n",
      "The shape of the x values of the test set is:  torch.Size([500, 5])\n",
      "The shape of the y values of the test set is:  torch.Size([500])\n"
     ]
    }
   ],
   "source": [
    "print(\"The shape of the x values of the training set is: \", train_x.shape)\n",
    "print(\"The shape of the y values of the training set is: \", train_y.shape)\n",
    "print(\"The shape of the x values of the validation set is: \", val_x.shape)\n",
    "print(\"The shape of the y values of the validation set is: \", val_y.shape)\n",
    "print(\"The shape of the x values of the test set is: \", test_x.shape)\n",
    "print(\"The shape of the y values of the test set is: \", test_y.shape)"
   ]
  },
  {
   "cell_type": "markdown",
   "metadata": {},
   "source": [
    "<font color='8CC6FF'> <font size = 5>  \n",
    "    \n",
    "**3.- Definition, training and evaluation of the neural network.**"
   ]
  },
  {
   "cell_type": "markdown",
   "metadata": {},
   "source": [
    "<font color='black'> <font size = 4> \n",
    "\n",
    "Finally, we can start by defining the Neural Network we're going to work with. Graphically, we can represent this network in the following manner:"
   ]
  },
  {
   "cell_type": "code",
   "execution_count": 24,
   "metadata": {},
   "outputs": [],
   "source": [
    "#This class graphs a neural network with the help of the NetworkX package\n",
    "class Network(object):\n",
    "    \n",
    "    def  __init__ (self,sizes):\n",
    "        self.num_layers = len(sizes)\n",
    "        print(\"It has\", self.num_layers, \"layers,\")\n",
    "        self.sizes = sizes\n",
    "        print(\"with the following number of nodes per layer\", self.sizes)\n",
    "        self.biases = [np.random.randn(y, 1) for y in sizes[1:]]\n",
    "        self.weights = [np.random.randn(y, x)\n",
    "                        for x, y in zip(sizes[:-1], sizes[1:])]\n",
    "        \n",
    "    def feedforward(self, x_of_sample):\n",
    "        \"\"\"Return the output of the network F(x_of_sample) \"\"\"        \n",
    "        for b, w in zip(self.biases, self.weights):\n",
    "            x_of_sample = sigmoid(np.dot(w, x_of_sample)+b)\n",
    "        return x_of_sample\n",
    "    \n",
    "    def graph(self,sizes):\n",
    "        a=[]\n",
    "        ps={}\n",
    "        Q = nx.Graph()\n",
    "        for i in range(len(sizes)):\n",
    "            Qi=nx.Graph()    \n",
    "            n=sizes[i]\n",
    "            nodos=np.arange(n)\n",
    "            Qi.add_nodes_from(nodos)\n",
    "            l_i=Qi.nodes\n",
    "            Q = nx.union(Q, Qi, rename = (None, 'Q%i-'%i))\n",
    "            if len(l_i)==1:\n",
    "                ps['Q%i-0'%i]=[i/(len(sizes)), 1/2]\n",
    "            else:\n",
    "                for j in range(len(l_i)+1):\n",
    "                    ps['Q%i-%i'%(i,j)]=[i/(len(sizes)),(1/(len(l_i)*len(l_i)))+(j/(len(l_i)))]\n",
    "            a.insert(i,Qi)\n",
    "        for i in range(len(a)-1):\n",
    "            for j in range(len(a[i])):\n",
    "                for k in range(len(a[i+1])):\n",
    "                    Q.add_edge('Q%i-%i' %(i,j),'Q%i-%i' %(i+1,k))\n",
    "        nx.draw(Q, pos = ps)"
   ]
  },
  {
   "cell_type": "code",
   "execution_count": 25,
   "metadata": {},
   "outputs": [
    {
     "name": "stdout",
     "output_type": "stream",
     "text": [
      "It has 6 layers,\n",
      "with the following number of nodes per layer [5, 24, 16, 8, 2, 1]\n"
     ]
    },
    {
     "data": {
      "image/png": "[encoded data removed]",
      "text/plain": [
       "<Figure size 432x288 with 1 Axes>"
      ]
     },
     "metadata": {},
     "output_type": "display_data"
    }
   ],
   "source": [
    "n_x = x_train.shape[1] \n",
    "n_h1 = 24\n",
    "n_h2 = 16\n",
    "n_h3 = 8\n",
    "n_h4 = 2\n",
    "n_y = y_train.shape[1]\n",
    "    \n",
    "layers = [n_x, n_h1, n_h2, n_h3, n_h4, n_y]\n",
    "net = Network(layers)\n",
    "net.graph(layers)"
   ]
  },
  {
   "cell_type": "markdown",
   "metadata": {},
   "source": [
    "<font color='black'> <font size = 4> \n",
    "\n",
    "As we can see, this is a 6 layer network: 1 input layer, 4 hidden layers and 1 output layer, in this case we have [5 ,24 ,16, 8, 2, 1] nodes per layer. The architecture of the network is the following:"
   ]
  },
  {
   "cell_type": "code",
   "execution_count": 26,
   "metadata": {},
   "outputs": [],
   "source": [
    "#Our network has 6 layers and is defined by the following class:\n",
    "class MyClassifier(nn.Module):\n",
    "    def __init__(self):\n",
    "        super(MyClassifier,self).__init__()\n",
    "        #We apply a linear function to the input data\n",
    "        self.fc1 = nn.Linear(5,24)\n",
    "        #We apply dropout to the edges of the first layer\n",
    "        self.drop1 = nn.Dropout(p=0.01)\n",
    "        #We apply a linear function to the input of the second layer\n",
    "        self.fc2 = nn.Linear(24,16)\n",
    "        #We apply dropout to the edges of the second layer\n",
    "        self.drop2 = nn.Dropout(p=0.01)\n",
    "        #We apply a linear function to the input of the third layer\n",
    "        self.fc3 = nn.Linear(16, 8)\n",
    "        #We apply dropout to the edges of the third layer\n",
    "        self.drop3 = nn.Dropout(p=0.01)\n",
    "        #We apply a linear function to the input of the fourth layer\n",
    "        self.fc4 = nn.Linear(8, 2)\n",
    "\n",
    "    def forward(self,x):\n",
    "        #Output of the first layer\n",
    "        x = self.fc1(x)\n",
    "        #The activation function is the ReLu\n",
    "        x = F.relu(x)\n",
    "        #We apply the dropout\n",
    "        x = self.drop1(x)\n",
    "        #Output of the second layer\n",
    "        x = self.fc2(x)\n",
    "        #The activation function is the ReLu\n",
    "        x = F.relu(x)\n",
    "        #We apply the dropout\n",
    "        x = self.drop2(x)\n",
    "        #Output of the third layer\n",
    "        x = self.fc3(x)\n",
    "        #The activation function is the ReLu\n",
    "        x = F.relu(x)\n",
    "        #We apply the dropout\n",
    "        x = self.drop3(x)\n",
    "        #Output of the fourth layer\n",
    "        x = self.fc4(x)\n",
    "        return x\n",
    "        \n",
    "    #This function takes the last output and predicts the class (0,1)\n",
    "    def predict(self,x):\n",
    "        #We apply the Softmax function to the output \n",
    "        pred = F.softmax(self.forward(x),dim=1)\n",
    "        ans = []\n",
    "        #We choose the class with more weight\n",
    "        for t in pred:\n",
    "            if t[0]>t[1]:\n",
    "                ans.append(0)\n",
    "            else:\n",
    "                ans.append(1)\n",
    "        return torch.tensor(ans)"
   ]
  },
  {
   "cell_type": "markdown",
   "metadata": {},
   "source": [
    "<font color='black'> <font size = 4> \n",
    "Once we define the network we can initialize the model, the cost function and an optimizer. In this case:"
   ]
  },
  {
   "cell_type": "code",
   "execution_count": 27,
   "metadata": {},
   "outputs": [],
   "source": [
    "#We initialize the model \n",
    "model = MyClassifier()\n",
    "#We define the cost function\n",
    "criterion = nn.CrossEntropyLoss()\n",
    "#We define the optimizer\n",
    "optimizer = torch.optim.Adam(model.parameters(), lr=0.01)"
   ]
  },
  {
   "cell_type": "markdown",
   "metadata": {},
   "source": [
    "<font color='black'> <font size = 4> \n",
    "\n",
    "Now, we are ready to train the network:"
   ]
  },
  {
   "cell_type": "code",
   "execution_count": 28,
   "metadata": {},
   "outputs": [],
   "source": [
    "#We define the number of epochs\n",
    "epochs = 10000\n",
    "\n",
    "#We define the lists to save the costs\n",
    "losses_train = []\n",
    "losses_val = []\n",
    "\n",
    "for i in range(epochs):\n",
    "    #We predict the output given the training and validation sets\n",
    "    y_pred = model.forward(train_x)\n",
    "    y_val = model.forward(val_x)\n",
    "    #We obtain the loss\n",
    "    loss_train = criterion(y_pred,train_y)\n",
    "    loss_val = criterion(y_val,val_y)\n",
    "    #We append the loss\n",
    "    losses_train.append(loss_train.item())\n",
    "    losses_val.append(loss_val.item())\n",
    "    #We clear the gradients\n",
    "    optimizer.zero_grad()\n",
    "    #We obtain the gradients\n",
    "    loss_train.backward()\n",
    "    loss_val.backward()\n",
    "    #We adjust the weights\n",
    "    optimizer.step()"
   ]
  },
  {
   "cell_type": "code",
   "execution_count": 29,
   "metadata": {
    "scrolled": true
   },
   "outputs": [
    {
     "name": "stdout",
     "output_type": "stream",
     "text": [
      "The model accuracy for the training set is:  0.9288888888888889\n",
      "The model accuracy for the validation set is:  0.9888888888888889\n",
      "The model accuracy for the test set is:  0.9\n"
     ]
    }
   ],
   "source": [
    "print(\"The model accuracy for the training set is: \", accuracy_score(model.predict(train_x),train_y))\n",
    "print(\"The model accuracy for the validation set is: \",accuracy_score(model.predict(val_x),val_y))\n",
    "print(\"The model accuracy for the test set is: \",accuracy_score(model.predict(test_x),test_y))"
   ]
  },
  {
   "cell_type": "markdown",
   "metadata": {},
   "source": [
    "<font color='black'> <font size = 4> \n",
    "    \n",
    "We can plot the cost of the training in function of the epochs:"
   ]
  },
  {
   "cell_type": "code",
   "execution_count": 30,
   "metadata": {},
   "outputs": [
    {
     "data": {
      "image/png": "[encoded data removed]",
      "text/plain": [
       "<Figure size 720x504 with 1 Axes>"
      ]
     },
     "metadata": {
      "needs_background": "light"
     },
     "output_type": "display_data"
    }
   ],
   "source": [
    "fig= plt.figure(figsize=(10, 7))\n",
    "\n",
    "plt.plot(range(epochs), losses_train, color='brown')\n",
    "plt.plot(range(epochs), losses_val, color='skyblue')\n",
    "plt.xlabel('Epoch', size=15)\n",
    "plt.ylabel('Loss', size=15)\n",
    "plt.title('Loss vs Epoch',{'fontsize': 20})\n",
    "plt.legend(['Training Cost', 'Validation Cost']);\n",
    "\n",
    "plt.savefig(\"./Images/loss.png\",dpi=300,bbox_inches=\"tight\")"
   ]
  },
  {
   "cell_type": "markdown",
   "metadata": {},
   "source": [
    "<font color='8CC6FF'> <font size = 5>  \n",
    "    \n",
    "**4.- Inference.**"
   ]
  },
  {
   "cell_type": "markdown",
   "metadata": {},
   "source": [
    "<font color='black'> <font size = 4> \n",
    "\n",
    "We can make inference using our test set and our Neural Network to observe how well it predicts the outcomes of the pitches. We define a predict function:"
   ]
  },
  {
   "cell_type": "code",
   "execution_count": 31,
   "metadata": {},
   "outputs": [],
   "source": [
    "def predict(x):\n",
    "    #We convert an array in a tensor\n",
    "    x = torch.from_numpy(x).type(torch.FloatTensor)\n",
    "    #We predict and return the result\n",
    "    ans = model.predict(x)\n",
    "    return ans.numpy()"
   ]
  },
  {
   "cell_type": "markdown",
   "metadata": {},
   "source": [
    "<font color='black'> <font size = 4> \n",
    "\n",
    "With this function we can obtain the prediction of the model and compare it with it's label. In this case we can see:"
   ]
  },
  {
   "cell_type": "code",
   "execution_count": 32,
   "metadata": {},
   "outputs": [
    {
     "name": "stdout",
     "output_type": "stream",
     "text": [
      "For the sample: 60\n",
      "The model and the umpire predict a strike.\n"
     ]
    }
   ],
   "source": [
    "sample = 60\n",
    "\n",
    "print(\"For the sample:\",sample)\n",
    "\n",
    "if predict(x_test)[sample] == 1:\n",
    "    if y_test[sample] == 1:\n",
    "        print(\"The model and the umpire predict a strike.\")\n",
    "    else:\n",
    "        print(\"The model predicts a strike, but the umpire predicts a ball.\")\n",
    "else:\n",
    "    if y_test[sample] == 1:\n",
    "        print(\"The model predicts a ball, but the umpire predicts a strike.\")\n",
    "    else:\n",
    "        print(\"The model and the umpire predict a ball.\")"
   ]
  },
  {
   "cell_type": "markdown",
   "metadata": {},
   "source": [
    "<font color='black'> <font size = 4> \n",
    "\n",
    "Graphically, we can observe if a pitch is effectively a strike or a ball:"
   ]
  },
  {
   "cell_type": "code",
   "execution_count": 33,
   "metadata": {},
   "outputs": [],
   "source": [
    "#We define the coordinates\n",
    "pitch= x_test[sample][:2]\n",
    "sz= x_test[sample][2:4]\n",
    "home=1.41667"
   ]
  },
  {
   "cell_type": "code",
   "execution_count": 34,
   "metadata": {},
   "outputs": [
    {
     "data": {
      "image/png": "[encoded data removed]",
      "text/plain": [
       "<Figure size 432x288 with 1 Axes>"
      ]
     },
     "metadata": {
      "needs_background": "light"
     },
     "output_type": "display_data"
    }
   ],
   "source": [
    "#We plot\n",
    "fig=plt.figure()\n",
    "ax=fig.add_axes([0,0,1,1])\n",
    "ax.scatter(pitch[0], pitch[1], color='brown')\n",
    "plt.plot([-home/2,home/2,home/2,-home/2,-home/2], [sz[1],sz[1],sz[0],sz[0],sz[1]], '-')\n",
    "ax.set_xlabel('X')\n",
    "ax.set_ylabel('Z')\n",
    "ax.set_title('Throw '+str(sample), {'fontsize': 15})\n",
    "plt.savefig(\"./Images/ThrowTest.png\",dpi=300,bbox_inches=\"tight\")"
   ]
  },
  {
   "cell_type": "markdown",
   "metadata": {},
   "source": [
    "<font color='8CC6FF'> <font size = 5>  \n",
    "    \n",
    "**5.- References**"
   ]
  },
  {
   "cell_type": "markdown",
   "metadata": {},
   "source": [
    "<font color='black'> <font size = 4> \n",
    "    \n",
    "- This network was built with the help of: **Tania Soto Contreras**.\n",
    "- The original data is from: https://gist.github.com/nkreeger/43edc6e6daecc2cb02a2dd3293a08f29\n",
    "- [Predicting balls and strikes using Tensorflow.js](https://medium.com/tensorflow/predicting-balls-and-strikes-using-tensorflow-js-2acf1d7a447c)."
   ]
  }
 ],
 "metadata": {
  "kernelspec": {
   "display_name": "Python 3",
   "language": "python",
   "name": "python3"
  },
  "language_info": {
   "codemirror_mode": {
    "name": "ipython",
    "version": 3
   },
   "file_extension": ".py",
   "mimetype": "text/x-python",
   "name": "python",
   "nbconvert_exporter": "python",
   "pygments_lexer": "ipython3",
   "version": "3.7.6"
  }
 },
 "nbformat": 4,
 "nbformat_minor": 4
}
